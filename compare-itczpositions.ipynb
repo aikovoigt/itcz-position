{
 "cells": [
  {
   "cell_type": "markdown",
   "metadata": {},
   "source": [
    "# Compare two possibilies to define the ITCZ position"
   ]
  },
  {
   "cell_type": "markdown",
   "metadata": {},
   "source": [
    "## Purpose"
   ]
  },
  {
   "cell_type": "markdown",
   "metadata": {},
   "source": [
    "The ITCZ is typically defined by means of the precipitation centroid. The centroid offers a more stable metric compared to the location of the precipitation maximum, which for example is sensitive to small precipitation changes for the case of a \"double ITCZ\".\n",
    "\n",
    "Yet, there are different choices what is meant by the centroid, and also within which latitude range it should be calculated (e.g., between 20N/S deg lat or 30N/S deg lat). The latter point is not studied here. The first point is investigated in the following.\n",
    "\n",
    "At least two definitions of the centroid have been used:\n",
    "\n",
    "1. The \"Adam\" definition, documented in Eq.1a of Adam et al., 2016, J. Climate, Seasonal and Interannual Variations of the Energy Flux Equator and ITCZ. Part I: Zonally Averaged ITCZ Position, https://journals.ametsoc.org/doi/full/10.1175/JCLI-D-15-0512.1 with N=1. Note that in Adam et al., 2016, the latitude boundaries were 20N/S deg lat.\n",
    "\n",
    "2. The \"Voigt\" definition used in the Tracmip introduction paper Voigt et al., 2016, JAMES, https://agupubs.onlinelibrary.wiley.com/doi/full/10.1002/2016MS000748. Note that in Voigt et al., 2016, the latitude boundaries were 30N/S deg lat.\n",
    "\n",
    "Both definitions have been used as illustrated by the following non-exhaustive list:\n",
    "\n",
    " * Frierson, D. and Y.-T. Hwang (2012), Extratropical Influence on ITCZ Shifts in Slab Ocean Simulations of Global Warming, Journal of Climate, DOI: 10.1175/JCLI-D-11-00116.1 (Voigt definition with 15N/S deg lat; indeed this is where the \"Voigt\" definition originates from)\n",
    " * Voigt, A. et al. (2014), The radiative impact of clouds on the shift of the Intertropical Convergence Zone, Geophys. Res. Lett., 41, 4308–4315, doi:10.1002/2014GL060354. (Voigt definition with 30N/S deg lat)\n",
    " * Voigt, A. et al. (2014), Compensation of Hemispheric Albedo Asymmetries by Shifts of the ITCZ and Tropical Clouds, Journal of Climate, https://doi.org/10.1175/JCLI-D-13-00205.1. (Voigt definition with 30N/S deg lat)\n",
    " * Donohoe, A. and A. Voigt (2017), Why Future Shifts in Tropical Precipitation Will Likely Be Small: The Location of the Tropical Rain Belt and the Hemispheric Contrast of Energy Input to the Atmosphere, Climate Extremes: Patterns and Mechanisms, AGU Book. (Voigt definition with 20N/S deg lat)\n",
    "\n",
    "In the following, we will document to what extent the two definitions differ quantitatively. We do so by using precipitation from the TRACMIP aquaControl simulations that are described in Voigt et al., 2016, JAMES and that we access via the pangeo cloud. \n",
    "\n",
    "The ITCZ definition problem might seem an academic problem - the precipitation is what it is, independent of how we decide to diagnose the ITCZ position. But in fact the choice of definition can be important for conceptual pictures of the ITCZ and tropical rainfall, such as those embodied in the so-called energetic framework that link the ITCZ position to cross-equatorial atmosphere energy transport. The ratio of ITCZ position and energy transport could thus be sensitive to how the ITCZ position is diagnosed."
   ]
  },
  {
   "cell_type": "markdown",
   "metadata": {},
   "source": [
    "## Background"
   ]
  },
  {
   "cell_type": "markdown",
   "metadata": {},
   "source": [
    "The Adam-based definition uses the equation:\n",
    "    \n",
    "\\begin{equation}\n",
    "  \\varphi_\\text{Adam}= \\frac{ \\int_{-\\varphi_0}^{\\varphi_0} \\varphi P(\\varphi) \\cos\\varphi d\\varphi }{ \\int_{-\\varphi_0}^{\\varphi_0} P(\\varphi) \\cos\\varphi d\\varphi } .\n",
    "\\end{equation}\n",
    "\n",
    "This defintion of the ITCZ position is in analogy to a lever, where the force is the product of the weight (precipition P) and the distance from the fulcrum (abs(latitude-ITCZ position)). Thus, for the Adam definition one has \n",
    "\n",
    "\\begin{equation}\n",
    "  \\int_{-\\varphi_0}^{\\varphi_\\text{Adam}} abs(\\varphi-\\varphi_\\text{Adam}) P(\\varphi) \\cos\\varphi d\\varphi = \\int_{\\varphi_\\text{Adam}}^{\\varphi_0} abs(\\varphi-\\varphi_\\text{Adam}) P(\\varphi) \\cos\\varphi d\\varphi .\n",
    "\\end{equation}\n",
    "\n",
    "The Voigt-based definition instead follows the idea that the ITCZ is given by the latitude for which the sum of the area-weighted precipitation south and north of it are the same:\n",
    "\n",
    "\\begin{equation}\n",
    "  \\int_{-\\varphi_0}^{\\varphi_\\text{Voigt}} P(\\varphi) \\cos\\varphi d\\varphi = \\int_{\\varphi_\\text{Voigt}}^{\\varphi_0} P(\\varphi) \\cos\\varphi d\\varphi .\n",
    "\\end{equation}\n",
    "\n",
    "I.e., while the Adam definition weighs precip more strongly according to its distance from the \"fulcrum\", the Voigt definition just has two buckets of precip that need to have the same filling level but are at the same distance from the fulcrum.\n",
    "\n",
    "This shows that while both definitions are closely related, the Adam definition gives more weight to latitudes further away from the diagnosed ITCZ. As a result, it will tend to put the ITCZ closer to the equator than the Voigt definition, for which it does not matter whether the precipitation falls near or far from the diagnosed ITCZ."
   ]
  },
  {
   "cell_type": "markdown",
   "metadata": {},
   "source": [
    "## Analysis"
   ]
  },
  {
   "cell_type": "markdown",
   "metadata": {},
   "source": [
    "### Load Tracmip aquaControl precipitation"
   ]
  },
  {
   "cell_type": "code",
   "execution_count": 1,
   "metadata": {},
   "outputs": [
    {
     "name": "stderr",
     "output_type": "stream",
     "text": [
      "Dataset(s):   0%|                                       | 0/14 [00:00<?, ?it/s]"
     ]
    },
    {
     "name": "stdout",
     "output_type": "stream",
     "text": [
      "\n",
      "--> The keys in the returned dictionary of datasets are constructed as follows:\n",
      "\t'model.experiment.frequency'\n"
     ]
    },
    {
     "name": "stderr",
     "output_type": "stream",
     "text": [
      "Dataset(s): 100%|██████████████████████████████| 14/14 [00:09<00:00,  1.47it/s]\n"
     ]
    }
   ],
   "source": [
    "from intake import open_catalog\n",
    "# get whole pangeo catalogue\n",
    "cat = open_catalog(\"https://raw.githubusercontent.com/pangeo-data/pangeo-datastore/master/intake-catalogs/climate.yaml\")\n",
    "# select tracmip collection\n",
    "col = cat.tracmip()\n",
    "# load data into dictionary\n",
    "ds_dict = col.search(frequency='Amon', experiment=['aquaControl'],\n",
    "                     variable=['pr']).to_dataset_dict(zarr_kwargs={'consolidated': True})"
   ]
  },
  {
   "cell_type": "code",
   "execution_count": 2,
   "metadata": {},
   "outputs": [],
   "source": [
    "# uncomment the following line to check content of dataset dictionary ds_dict\n",
    "#print(ds_dict.keys())\n",
    "# lists of models\n",
    "models = list(col.df.model.unique())"
   ]
  },
  {
   "cell_type": "markdown",
   "metadata": {},
   "source": [
    "### Calculate ITCZ positions according to Adam and Voigt definitions"
   ]
  },
  {
   "cell_type": "markdown",
   "metadata": {},
   "source": [
    "Dictionary of model colors, same as in Voigt et al. 2016, JAMES, TRACMIP introduction paper"
   ]
  },
  {
   "cell_type": "code",
   "execution_count": 3,
   "metadata": {},
   "outputs": [],
   "source": [
    "import numpy as np\n",
    "dict_color = {'AM21': np.array([1. , 0.8, 0.6]), 'CAM3':np.array([0.50196078, 0.50196078, 0.50196078]), \n",
    "              'CAM4': np.array([0.58039216, 1.        , 0.70980392]), 'CAM5Nor':np.array([0.76078431, 0.        , 0.53333333]), \n",
    "              'CNRM-AM5': np.array([0.        , 0.2       , 0.50196078]), 'ECHAM61':np.array([0.        , 0.45882353, 0.8627451 ]), \n",
    "              'ECHAM63':np.array([0.6       , 0.24705882, 0.        ]), 'GISS-ModelE2':np.array([0.61568627, 0.8       , 0.        ]),\n",
    "              'LMDZ5A':np.array([0.29803922, 0.        , 0.36078431]), 'MetUM-CTL':np.array([0.09803922, 0.09803922, 0.09803922]),\n",
    "              'MetUM-ENT':np.array([0.        , 0.36078431, 0.19215686]), 'MIROC5':np.array([0.16862745, 0.80784314, 0.28235294]), \n",
    "              'MPAS':np.array([0.56078431, 0.48627451, 0.        ]), 'CALTECH': np.array([1.        , 0.64313725, 0.01960784])}"
   ]
  },
  {
   "cell_type": "markdown",
   "metadata": {},
   "source": [
    "Load my implementation of the ITCZ definitions"
   ]
  },
  {
   "cell_type": "code",
   "execution_count": 4,
   "metadata": {},
   "outputs": [],
   "source": [
    "import itcz"
   ]
  },
  {
   "cell_type": "markdown",
   "metadata": {},
   "source": [
    "**Calculate ITCZ positions using the zonal-mean time-mean precipitation from the last 30 years of the aquaControl simulation using the latitude boundaries of 20N/S deg lat**"
   ]
  },
  {
   "cell_type": "code",
   "execution_count": 5,
   "metadata": {},
   "outputs": [],
   "source": [
    "for mod in models:\n",
    "    ds_dict[mod+'.aquaControl.Amon']['itcz_adam'] = (\n",
    "         itcz.get_itczposition_adam(ds_dict[mod+'.aquaControl.Amon']['pr'][-360:,:,:].mean(['time','lon']),    \n",
    "                             ds_dict[mod+'.aquaControl.Amon'].lat, latboundary=20, dlat=0.1) )\n",
    "    ds_dict[mod+'.aquaControl.Amon']['itcz_voigt'] = (\n",
    "         itcz.get_itczposition_voigt(ds_dict[mod+'.aquaControl.Amon']['pr'][-360:,:,:].mean(['time','lon']),    \n",
    "                             ds_dict[mod+'.aquaControl.Amon'].lat, latboundary=20, dlat=0.05) )"
   ]
  },
  {
   "cell_type": "markdown",
   "metadata": {},
   "source": [
    "**Scatter plot of Adam versus Voigt definitions (left panel) and the ratio of the two (right panel):**\n",
    "\n",
    "This shows that the two definitions agree well, but that the Voigt definition yields more poleward ITCZ position, in agreement with the considerations in the background section."
   ]
  },
  {
   "cell_type": "code",
   "execution_count": 6,
   "metadata": {},
   "outputs": [
    {
     "data": {
      "image/png": "[encoded data removed]",
      "text/plain": [
       "<Figure size 864x288 with 2 Axes>"
      ]
     },
     "metadata": {
      "needs_background": "light"
     },
     "output_type": "display_data"
    }
   ],
   "source": [
    "import matplotlib.pyplot as plt\n",
    "plt.figure(figsize=(12,4))\n",
    "plt.subplot(1,2,1)\n",
    "for mod in models:\n",
    "    plt.plot(ds_dict[mod+'.aquaControl.Amon']['itcz_adam'],\n",
    "             ds_dict[mod+'.aquaControl.Amon']['itcz_voigt'],'o', color=dict_color[mod])\n",
    "plt.xlabel('Adam ITCZ (deg lat)'); plt.ylabel('Voigt ITCZ (deg lat)');\n",
    "    \n",
    "plt.subplot(1,2,2)\n",
    "for mod in models:\n",
    "    plt.plot(ds_dict[mod+'.aquaControl.Amon']['itcz_adam'],\n",
    "             ds_dict[mod+'.aquaControl.Amon']['itcz_voigt']/ds_dict[mod+'.aquaControl.Amon']['itcz_adam'],'x', color=dict_color[mod])\n",
    "plt.xlabel('Adam ITCZ (deg lat)'); plt.ylabel('Voigt ITCZ / Adam ITCZ');"
   ]
  },
  {
   "cell_type": "markdown",
   "metadata": {},
   "source": [
    "**Test that the Voigt and Adam results agree with the integral equations given in the background section.**\n",
    "\n",
    "We use the criterion that for both definitions the l.h.s and r.h.s agree within 1%. Note that the ITCZ positions are recalculated within the test subroutines."
   ]
  },
  {
   "cell_type": "code",
   "execution_count": 7,
   "metadata": {},
   "outputs": [
    {
     "name": "stdout",
     "output_type": "stream",
     "text": [
      "AM21 : Adam test passed!\n",
      "CAM4 : Adam test passed!\n",
      "CAM5Nor : Adam test passed!\n",
      "CNRM-AM5 : Adam test passed!\n",
      "ECHAM61 : Adam test passed!\n",
      "ECHAM63 : Adam test passed!\n",
      "GISS-ModelE2 : Adam test passed!\n",
      "MIROC5 : Adam test passed!\n",
      "MPAS : Adam test passed!\n",
      "MetUM-CTL : Adam test passed!\n",
      "MetUM-ENT : Adam test passed!\n",
      "CAM3 : Adam test passed!\n",
      "LMDZ5A : Adam test passed!\n",
      "CALTECH : Adam test passed!\n"
     ]
    }
   ],
   "source": [
    "for mod in models:\n",
    "    lhs, rhs = itcz.test_itczposition_adam(ds_dict[mod+'.aquaControl.Amon']['pr'][-360:,:,:].mean(['time','lon']),\n",
    "                            ds_dict[mod+'.aquaControl.Amon'].lat, 20, 0.1)\n",
    "    if (np.abs(lhs-rhs)>0.01*rhs):\n",
    "        print(mod, ': Adam test FAILED!')\n",
    "    else:\n",
    "        print(mod, ': Adam test passed!')"
   ]
  },
  {
   "cell_type": "code",
   "execution_count": 8,
   "metadata": {},
   "outputs": [
    {
     "name": "stdout",
     "output_type": "stream",
     "text": [
      "AM21 : Voigt test passed!\n",
      "CAM4 : Voigt test passed!\n",
      "CAM5Nor : Voigt test passed!\n",
      "CNRM-AM5 : Voigt test passed!\n",
      "ECHAM61 : Voigt test passed!\n",
      "ECHAM63 : Voigt test passed!\n",
      "GISS-ModelE2 : Voigt test passed!\n",
      "MIROC5 : Voigt test passed!\n",
      "MPAS : Voigt test passed!\n",
      "MetUM-CTL : Voigt test passed!\n",
      "MetUM-ENT : Voigt test passed!\n",
      "CAM3 : Voigt test passed!\n",
      "LMDZ5A : Voigt test passed!\n",
      "CALTECH : Voigt test passed!\n"
     ]
    }
   ],
   "source": [
    "for mod in models:\n",
    "    lhs, rhs = itcz.test_itczposition_voigt(ds_dict[mod+'.aquaControl.Amon']['pr'][-360:,:,:].mean(['time','lon']),\n",
    "                            ds_dict[mod+'.aquaControl.Amon'].lat, 20, 0.05)\n",
    "    if (np.abs(lhs-rhs)>0.01*rhs):\n",
    "        print(mod, ': Voigt test FAILED!')\n",
    "    else:\n",
    "        print(mod, ': Voigt test passed!')"
   ]
  }
 ],
 "metadata": {
  "kernelspec": {
   "display_name": "Python 3",
   "language": "python",
   "name": "python3"
  },
  "language_info": {
   "codemirror_mode": {
    "name": "ipython",
    "version": 3
   },
   "file_extension": ".py",
   "mimetype": "text/x-python",
   "name": "python",
   "nbconvert_exporter": "python",
   "pygments_lexer": "ipython3",
   "version": "3.7.6"
  }
 },
 "nbformat": 4,
 "nbformat_minor": 4
}
